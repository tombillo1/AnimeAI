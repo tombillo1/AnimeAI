{
 "cells": [
  {
   "cell_type": "code",
   "execution_count": 103,
   "id": "19cd7a20",
   "metadata": {},
   "outputs": [
    {
     "data": {
      "text/html": [
       "<div>\n",
       "<style scoped>\n",
       "    .dataframe tbody tr th:only-of-type {\n",
       "        vertical-align: middle;\n",
       "    }\n",
       "\n",
       "    .dataframe tbody tr th {\n",
       "        vertical-align: top;\n",
       "    }\n",
       "\n",
       "    .dataframe thead th {\n",
       "        text-align: right;\n",
       "    }\n",
       "</style>\n",
       "<table border=\"1\" class=\"dataframe\">\n",
       "  <thead>\n",
       "    <tr style=\"text-align: right;\">\n",
       "      <th></th>\n",
       "      <th>anime_id</th>\n",
       "      <th>name</th>\n",
       "      <th>genre</th>\n",
       "      <th>type</th>\n",
       "      <th>episodes</th>\n",
       "      <th>rating_x</th>\n",
       "      <th>members</th>\n",
       "      <th>user_id</th>\n",
       "      <th>rating_y</th>\n",
       "    </tr>\n",
       "  </thead>\n",
       "  <tbody>\n",
       "    <tr>\n",
       "      <th>0</th>\n",
       "      <td>32281</td>\n",
       "      <td>Kimi no Na wa.</td>\n",
       "      <td>Drama, Romance, School, Supernatural</td>\n",
       "      <td>Movie</td>\n",
       "      <td>1</td>\n",
       "      <td>9.37</td>\n",
       "      <td>200630</td>\n",
       "      <td>99</td>\n",
       "      <td>5</td>\n",
       "    </tr>\n",
       "    <tr>\n",
       "      <th>1</th>\n",
       "      <td>32281</td>\n",
       "      <td>Kimi no Na wa.</td>\n",
       "      <td>Drama, Romance, School, Supernatural</td>\n",
       "      <td>Movie</td>\n",
       "      <td>1</td>\n",
       "      <td>9.37</td>\n",
       "      <td>200630</td>\n",
       "      <td>152</td>\n",
       "      <td>10</td>\n",
       "    </tr>\n",
       "    <tr>\n",
       "      <th>2</th>\n",
       "      <td>32281</td>\n",
       "      <td>Kimi no Na wa.</td>\n",
       "      <td>Drama, Romance, School, Supernatural</td>\n",
       "      <td>Movie</td>\n",
       "      <td>1</td>\n",
       "      <td>9.37</td>\n",
       "      <td>200630</td>\n",
       "      <td>244</td>\n",
       "      <td>10</td>\n",
       "    </tr>\n",
       "    <tr>\n",
       "      <th>3</th>\n",
       "      <td>32281</td>\n",
       "      <td>Kimi no Na wa.</td>\n",
       "      <td>Drama, Romance, School, Supernatural</td>\n",
       "      <td>Movie</td>\n",
       "      <td>1</td>\n",
       "      <td>9.37</td>\n",
       "      <td>200630</td>\n",
       "      <td>271</td>\n",
       "      <td>10</td>\n",
       "    </tr>\n",
       "    <tr>\n",
       "      <th>4</th>\n",
       "      <td>32281</td>\n",
       "      <td>Kimi no Na wa.</td>\n",
       "      <td>Drama, Romance, School, Supernatural</td>\n",
       "      <td>Movie</td>\n",
       "      <td>1</td>\n",
       "      <td>9.37</td>\n",
       "      <td>200630</td>\n",
       "      <td>322</td>\n",
       "      <td>10</td>\n",
       "    </tr>\n",
       "  </tbody>\n",
       "</table>\n",
       "</div>"
      ],
      "text/plain": [
       "   anime_id            name                                 genre   type  \\\n",
       "0     32281  Kimi no Na wa.  Drama, Romance, School, Supernatural  Movie   \n",
       "1     32281  Kimi no Na wa.  Drama, Romance, School, Supernatural  Movie   \n",
       "2     32281  Kimi no Na wa.  Drama, Romance, School, Supernatural  Movie   \n",
       "3     32281  Kimi no Na wa.  Drama, Romance, School, Supernatural  Movie   \n",
       "4     32281  Kimi no Na wa.  Drama, Romance, School, Supernatural  Movie   \n",
       "\n",
       "  episodes  rating_x  members  user_id  rating_y  \n",
       "0        1      9.37   200630       99         5  \n",
       "1        1      9.37   200630      152        10  \n",
       "2        1      9.37   200630      244        10  \n",
       "3        1      9.37   200630      271        10  \n",
       "4        1      9.37   200630      322        10  "
      ]
     },
     "execution_count": 103,
     "metadata": {},
     "output_type": "execute_result"
    }
   ],
   "source": [
    "import pandas as pd\n",
    "import numpy as np\n",
    "import seaborn as sns\n",
    "import matplotlib.pyplot as plt\n",
    "import os\n",
    "from scipy.sparse import csr_matrix\n",
    "from sklearn.neighbors import NearestNeighbors\n",
    "\n",
    "\"\"\"\n",
    "Data Analysis and Machine Learning Program for recommending Anime cinema.\n",
    "Includes graphical charts for the data used in regards to average ratings, number of ratings, and types of entertainment. \n",
    "- Tommy Billington (Github: tombillo1)\n",
    "\"\"\"\n",
    "\n",
    "#takes the tables for the anime data as well as the data for the rating\n",
    "anime_data = pd.read_csv('anime.csv')\n",
    "anime_data.dropna(inplace=True)\n",
    "\n",
    "rating_data = pd.read_csv('rating.csv')\n",
    "rating_data = rating_data[rating_data.rating != -1]\n",
    "\n",
    "#merges the two tables based on the ID of the anime\n",
    "main_data = pd.merge(anime_data, rating_data, on = 'anime_id')\n",
    "\n",
    "#film classification for shows\n",
    "film_data = main_data[['name', 'type']].copy()\n",
    "\n",
    "#finds the avg rating of each show\n",
    "avg_rating = main_data.groupby('name')['rating_y'].mean().sort_values(ascending=False).reset_index()\n",
    "avg_rating.rename(columns = {'rating_y':'avg_rate'}, inplace = True)\n",
    "\n",
    "#finds the number of ratings for the anime\n",
    "num_rating = main_data.groupby('name')['rating_y'].count().sort_values(ascending=True).reset_index()\n",
    "num_rating.rename(columns = {'rating_y':'num_rate'}, inplace = True)\n",
    "\n",
    "#merges the num of ratings with the avg ratings\n",
    "temp_data = pd.merge(avg_rating, num_rating, on = 'name')\n",
    "anime_ratings_data = pd.merge(temp_data, film_data, on = 'name')"
   ]
  },
  {
   "cell_type": "code",
   "execution_count": 6,
   "id": "a36a4406",
   "metadata": {},
   "outputs": [
    {
     "data": {
      "image/png": "[encoded data removed]",
      "text/plain": [
       "<Figure size 1008x360 with 1 Axes>"
      ]
     },
     "metadata": {},
     "output_type": "display_data"
    },
    {
     "data": {
      "image/png": "[encoded data removed]",
      "text/plain": [
       "<Figure size 1008x360 with 1 Axes>"
      ]
     },
     "metadata": {},
     "output_type": "display_data"
    }
   ],
   "source": [
    "\"\"\"\n",
    "Sets up the graphs for the data:\n",
    "    * Graph 1: values for number of ratings\n",
    "    * Graph 2: distribution of the average ratings\n",
    "    * Graph 3: joint graph with data catagorized per type of show\n",
    "    \n",
    "    Note: cell might take a while to load\n",
    "\"\"\"\n",
    "sns.set(font_scale = 1)\n",
    "plt.style.use('Solarize_Light2')\n",
    "\n",
    "plt.figure(figsize=(14,5))\n",
    "plt.hist(temp_data['num_rate'], bins=80, color='tab:green')\n",
    "plt.ylabel('Number of Ratings', fontsize=15)\n",
    "plt.savefig('ratingshist.jpg')\n",
    "\n",
    "plt.figure(figsize=(14,5))\n",
    "plt.hist(anime_ratings_data['avg_rate'], bins=80, color='tab:green')\n",
    "plt.ylabel('Average Rating', fontsize=15)\n",
    "plt.savefig('avgratinghist.jpg')\n",
    "\n",
    "merged_plot = sns.jointplot(x = 'avg_rate', y = 'num_rate', data = anime_ratings_data, alpha = 0.5, color='tab:green', hue = 'type')\n",
    "merged_plot.savefig('mergeplot.jpg')"
   ]
  },
  {
   "cell_type": "code",
   "execution_count": 106,
   "id": "b51d7e6b",
   "metadata": {},
   "outputs": [],
   "source": [
    "#finds the type of media at a certain index in main_data\n",
    "def findType(index_val):\n",
    "    return main_data.iloc[index_val, 3]\n",
    "    "
   ]
  },
  {
   "cell_type": "code",
   "execution_count": 102,
   "id": "72ee098e",
   "metadata": {},
   "outputs": [
    {
     "name": "stdout",
     "output_type": "stream",
     "text": [
      "Since you watched Kafun Shoujo Chuuihou! The Animation we recommend ... \n",
      "1) TV: Oppai no Ouja 48\n",
      "2) TV: Sweet Home: H na Oneesan wa Suki Desu ka?\n",
      "3) Movie: Floating Material\n",
      "4) TV: Shocking Pink!\n",
      "5) TV: Menkui!\n",
      "6) TV: Ojousama wa H ga Osuki: The Animation\n",
      "7) Movie: Honoo no Haramase Doukyuusei\n",
      "8) TV: Papa Love: Papa to Icha Ero Shitai Musume-tachi to Hitotsu Yane no Shita de\n",
      "9) Movie: Honoo no Haramase Tenkousei\n",
      "10) Movie: Fault!!\n"
     ]
    }
   ],
   "source": [
    "\"\"\"\n",
    "KNN algortihm used to recommend a top 10 most relevant media.\n",
    "\"\"\"\n",
    "\n",
    "#creates and uses threshold for how many reviews a film must have to be recommended\n",
    "thresh = 75;\n",
    "all_data = pd.merge(main_data, temp_data, on = 'name')\n",
    "filtered_data = all_data[all_data['num_rate'] >= thresh]\n",
    "\n",
    "#creates matrix to use for KNN alg.\n",
    "featured_data = filtered_data.pivot_table(index ='name', columns = 'user_id', values = 'rating_y').fillna(0)\n",
    "featured_data_matrix = csr_matrix(featured_data.values)\n",
    "\n",
    "#model uses brute-force nearestneighbors\n",
    "model = NearestNeighbors(metric = 'cosine', algorithm = 'brute')\n",
    "model.fit(featured_data_matrix)\n",
    "\n",
    "ind = np.random.choice(featured_data.shape[0])\n",
    "X, y = model.kneighbors(featured_data.iloc[ind, :].values.reshape(1, -1), n_neighbors = 11)\n",
    "\n",
    "for i in range(0, len(X.flatten())):\n",
    "    if i == 0:\n",
    "        print(f'Since you watched {featured_data.index[ind]} we recommend ... ')\n",
    "    else:\n",
    "        print(f'{i}) {findType(y.flatten()[i])}: {featured_data.index[y.flatten()[i]]}')"
   ]
  },
  {
   "cell_type": "code",
   "execution_count": null,
   "id": "7e77284b",
   "metadata": {},
   "outputs": [],
   "source": []
  }
 ],
 "metadata": {
  "kernelspec": {
   "display_name": "Python 3 (ipykernel)",
   "language": "python",
   "name": "python3"
  },
  "language_info": {
   "codemirror_mode": {
    "name": "ipython",
    "version": 3
   },
   "file_extension": ".py",
   "mimetype": "text/x-python",
   "name": "python",
   "nbconvert_exporter": "python",
   "pygments_lexer": "ipython3",
   "version": "3.9.7"
  },
  "vscode": {
   "interpreter": {
    "hash": "48a52b6bbd10df622cf86d3888d4dccf1a3cc1146bfed7a8603b3a1390b14eb3"
   }
  }
 },
 "nbformat": 4,
 "nbformat_minor": 5
}
